{
 "cells": [
  {
   "cell_type": "code",
   "execution_count": null,
   "metadata": {},
   "outputs": [],
   "source": [
    "from groq import Groq\n",
    "\n",
    "client = Groq()\n",
    "completion = client.chat.completions.create(\n",
    "    model=\"llama-3.2-11b-vision-preview\",\n",
    "    messages=[\n",
    "        {\n",
    "            \"role\": \"user\",\n",
    "            \"content\": [\n",
    "                {\"type\": \"text\", \"text\": \"What's in this image?\"},\n",
    "                {\n",
    "                    \"type\": \"image_url\",\n",
    "                    \"image_url\": {\n",
    "                        \"url\": \"https://upload.wikimedia.org/wikipedia/commons/f/f2/LPU-v1-die.jpg\"\n",
    "                    },\n",
    "                },\n",
    "            ],\n",
    "        }\n",
    "    ],\n",
    "    temperature=1,\n",
    "    max_tokens=1024,\n",
    "    top_p=1,\n",
    "    stream=False,\n",
    "    stop=None,\n",
    ")\n",
    "\n",
    "print(completion.choices[0].message)"
   ]
  },
  {
   "cell_type": "code",
   "execution_count": 3,
   "metadata": {},
   "outputs": [
    {
     "name": "stdout",
     "output_type": "stream",
     "text": [
      "The image shows an older man and a younger man playing soccer in the desert, with the older man wearing a brown vest, green jacket, khaki pants, brown shoes, white socks, a dark green shirt, the younger man in a red soccer uniform, black shoes, red socks, white wristbands on his left and right wrist, a large number 12 on the front of his jersey, and along the side of the shorts a white wisply band with multiple thick red stripes. The older man is wearing a brown vest, green jacket, khaki pants, brown shoes, white socks, a dark green shirt, and the younger man is wearing a red soccer uniform, black shoes, red socks, white wristbands on his left and right wrist, a large number 12 on the front of his jersey, and along the side of the shorts a white wisply band with multiple thick red stripes.\n",
      "\n",
      "The older man appears to be a kind of fossil when he throws his head backward to look past his opponent; just like many fossils he seems to be much older with this being evidenced by his movements and hair. The image features both men kicking the ball, the older man is more focused whereas the younger man is being more cautious, for him the game revolves around winning, and his movement looks tense. His body, with the red uniform, white wristbands, and red shoulder band along with several other white stripes is on the attack, but his concentration focuses only on the forward momentum away from the other player. If you look closely and then compared to the soccer icon, adidas, you can see similarity. He is being attacked or more specifically defended by the older man who looks like the fossil man, we are told that something is special about him. The movement of the man is similar to an actor in a movie, or a fossilized ancient creature. From the photo, the hair and face both depict an old fossil. His form of movement is different from that of the younger man. While he is bending toward his knees, forward, the younger man is lifting up as if he is trying to get away from the older man's play. He has the ability to change his direction quickly. When the younger man starts to move in a wave pattern, the older man also starts to circle the ball.\n",
      "\n",
      "Therefore, the older man like a fossil, is constantly moving his body, turning in all directions, and the young man in the same way looks tense and defensive. The landscape is depicted as being hot and dry as opposed to his light green shirt, which would indicate that he is using all his powers to win. The landscape is being depicted as a field of red dust. The sun is shinning brightly in the background, which indicates that it is warm and dry. \n",
      "\n",
      "Each of the two are being equally determined and only one will win.\n"
     ]
    }
   ],
   "source": [
    "from groq import Groq\n",
    "import base64\n",
    "from dotenv import load_dotenv\n",
    "load_dotenv()\n",
    "\n",
    "\n",
    "# Function to encode the image\n",
    "def encode_image(image_path):\n",
    "    with open(image_path, \"rb\") as image_file:\n",
    "        return base64.b64encode(image_file.read()).decode(\"utf-8\")\n",
    "\n",
    "\n",
    "# Path to your image\n",
    "image_path = \"image.jpeg\"\n",
    "\n",
    "# Getting the base64 string\n",
    "base64_image = encode_image(image_path)\n",
    "\n",
    "client = Groq()\n",
    "\n",
    "chat_completion = client.chat.completions.create(\n",
    "    messages=[\n",
    "        {\n",
    "            \"role\": \"user\",\n",
    "            \"content\": [\n",
    "                {\"type\": \"text\", \"text\": \"What's in this image? (write the detailed description)\"},\n",
    "                {\n",
    "                    \"type\": \"image_url\",\n",
    "                    \"image_url\": {\n",
    "                        \"url\": f\"data:image/jpeg;base64,{base64_image}\",\n",
    "                    },\n",
    "                },\n",
    "            ],\n",
    "        }\n",
    "    ],\n",
    "    model=\"llama-3.2-11b-vision-preview\",\n",
    ")\n",
    "\n",
    "print(chat_completion.choices[0].message.content)"
   ]
  },
  {
   "cell_type": "code",
   "execution_count": null,
   "metadata": {},
   "outputs": [],
   "source": []
  }
 ],
 "metadata": {
  "kernelspec": {
   "display_name": "venv",
   "language": "python",
   "name": "python3"
  },
  "language_info": {
   "codemirror_mode": {
    "name": "ipython",
    "version": 3
   },
   "file_extension": ".py",
   "mimetype": "text/x-python",
   "name": "python",
   "nbconvert_exporter": "python",
   "pygments_lexer": "ipython3",
   "version": "3.11.10"
  }
 },
 "nbformat": 4,
 "nbformat_minor": 2
}
