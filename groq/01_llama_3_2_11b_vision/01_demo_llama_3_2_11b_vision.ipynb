{
 "cells": [
  {
   "cell_type": "code",
   "execution_count": null,
   "metadata": {},
   "outputs": [],
   "source": [
    "from groq import Groq\n",
    "\n",
    "client = Groq()\n",
    "completion = client.chat.completions.create(\n",
    "    model=\"llama-3.2-11b-vision-preview\",\n",
    "    messages=[\n",
    "        {\n",
    "            \"role\": \"user\",\n",
    "            \"content\": [\n",
    "                {\"type\": \"text\", \"text\": \"What's in this image?\"},\n",
    "                {\n",
    "                    \"type\": \"image_url\",\n",
    "                    \"image_url\": {\n",
    "                        \"url\": \"https://upload.wikimedia.org/wikipedia/commons/f/f2/LPU-v1-die.jpg\"\n",
    "                    },\n",
    "                },\n",
    "            ],\n",
    "        }\n",
    "    ],\n",
    "    temperature=1,\n",
    "    max_tokens=1024,\n",
    "    top_p=1,\n",
    "    stream=False,\n",
    "    stop=None,\n",
    ")\n",
    "\n",
    "print(completion.choices[0].message)"
   ]
  },
  {
   "cell_type": "code",
   "execution_count": 12,
   "metadata": {},
   "outputs": [
    {
     "name": "stdout",
     "output_type": "stream",
     "text": [
      "The image shows Albert Einstein playing soccer with a team mate.\n",
      "\n",
      "* A man with white hair is playing soccer:\n",
      "\t+ He is wearing a yellow vest over a green shirt.\n",
      "\t+ His hair is styled in a flowing manner.\n",
      "\t+ He appears to be in his senior years, possibly aged in the sixties or seventies.\n",
      "\t+ He is running towards the ball with his legs bent and his arms outstretched.\n",
      "* The man is wearing a yellow vest and green shirt:\n",
      "\t+ The vest is made of a lightweight material and has a relaxed fit.\n",
      "\t+ The green shirt underneath is long-sleeved and has a crew neck.\n",
      "\t+ There are no visible logos or branding on the vest or shirt.\n",
      "* The man has white hair and is running:\n",
      "\t+ His hair is thick and unruly, with strands falling across his forehead.\n",
      "\t+ He has a determined expression on his face.\n",
      "\t+ His legs are bent at the knees, with his feet about to land on the ground and the ball.\n",
      "* There is a soccer ball on the ground:\n",
      "\t+ The ball is white with blue accents and has a star-shaped pattern on it.\n",
      "\t+ It appears to be a standard-sized soccer ball.\n",
      "\t+ It is on the ground, with the man about to kick it.\n",
      "\n",
      "Overall, the image shows an elderly Albert Einstein engaging in a game of soccer, showcasing his age and vitality. The image conveys a sense of joy and playfulness, highlighting the universal appeal of sports.\n"
     ]
    }
   ],
   "source": [
    "from groq import Groq\n",
    "import base64\n",
    "\n",
    "\n",
    "# Function to encode the image\n",
    "def encode_image(image_path):\n",
    "    with open(image_path, \"rb\") as image_file:\n",
    "        return base64.b64encode(image_file.read()).decode(\"utf-8\")\n",
    "\n",
    "\n",
    "# Path to your image\n",
    "image_path = \"image.jpeg\"\n",
    "\n",
    "# Getting the base64 string\n",
    "base64_image = encode_image(image_path)\n",
    "\n",
    "client = Groq()\n",
    "\n",
    "chat_completion = client.chat.completions.create(\n",
    "    messages=[\n",
    "        {\n",
    "            \"role\": \"user\",\n",
    "            \"content\": [\n",
    "                {\"type\": \"text\", \"text\": \"What's in this image? (write the detailed description)\"},\n",
    "                {\n",
    "                    \"type\": \"image_url\",\n",
    "                    \"image_url\": {\n",
    "                        \"url\": f\"data:image/jpeg;base64,{base64_image}\",\n",
    "                    },\n",
    "                },\n",
    "            ],\n",
    "        }\n",
    "    ],\n",
    "    model=\"llama-3.2-11b-vision-preview\",\n",
    ")\n",
    "\n",
    "print(chat_completion.choices[0].message.content)"
   ]
  },
  {
   "cell_type": "code",
   "execution_count": null,
   "metadata": {},
   "outputs": [],
   "source": []
  }
 ],
 "metadata": {
  "kernelspec": {
   "display_name": "venv",
   "language": "python",
   "name": "python3"
  },
  "language_info": {
   "codemirror_mode": {
    "name": "ipython",
    "version": 3
   },
   "file_extension": ".py",
   "mimetype": "text/x-python",
   "name": "python",
   "nbconvert_exporter": "python",
   "pygments_lexer": "ipython3",
   "version": "3.11.10"
  }
 },
 "nbformat": 4,
 "nbformat_minor": 2
}
