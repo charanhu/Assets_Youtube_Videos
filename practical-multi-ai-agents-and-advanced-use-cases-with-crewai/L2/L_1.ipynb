{
 "cells": [
  {
   "cell_type": "markdown",
   "id": "bae53a09-c04c-4916-a146-00e0bb188954",
   "metadata": {},
   "source": [
    "# L1: Automated Project: Planning, Estimation, and Allocation"
   ]
  },
  {
   "cell_type": "markdown",
   "id": "2a4058e8-a52c-4365-ac27-da08b67d7fb8",
   "metadata": {},
   "source": [
    "<p style=\"background-color:#fff6e4; padding:15px; border-width:3px; border-color:#f5ecda; border-style:solid; border-radius:6px\"> ⏳ <b>Note <code>(Kernel Starting)</code>:</b> This notebook takes about 30 seconds to be ready to use. You may start and watch the video while you wait.</p>"
   ]
  },
  {
   "cell_type": "markdown",
   "id": "30ada5b1-06ec-41e8-8f60-5e0e0d389ffb",
   "metadata": {},
   "source": [
    "## Initial Imports"
   ]
  },
  {
   "cell_type": "code",
   "execution_count": 1,
   "id": "4193708e-9802-4161-844a-735f6361e24d",
   "metadata": {
    "height": 200
   },
   "outputs": [],
   "source": [
    "# Warning control\n",
    "import warnings\n",
    "warnings.filterwarnings('ignore')\n",
    "\n",
    "# Load environment variables\n",
    "from helper import load_env\n",
    "load_env()\n",
    "\n",
    "import os\n",
    "import yaml\n",
    "from crewai import Agent, Task, Crew, LLM"
   ]
  },
  {
   "cell_type": "code",
   "execution_count": 2,
   "id": "a0d3a4bc",
   "metadata": {},
   "outputs": [
    {
     "data": {
      "text/plain": [
       "True"
      ]
     },
     "execution_count": 2,
     "metadata": {},
     "output_type": "execute_result"
    }
   ],
   "source": [
    "from dotenv import load_dotenv\n",
    "\n",
    "load_dotenv()"
   ]
  },
  {
   "cell_type": "markdown",
   "id": "66752d49-82ae-4b58-b76b-fc57c6b5f23e",
   "metadata": {},
   "source": [
    "<p style=\"background-color:#fff6ff; padding:15px; border-width:3px; border-color:#efe6ef; border-style:solid; border-radius:6px\"> 💻 &nbsp; <b>Access <code>requirements.txt</code> and <code>helper.py</code> files:</b> 1) click on the <em>\"File\"</em> option on the top menu of the notebook and then 2) click on <em>\"Open\"</em>. For more help, please see the <em>\"Appendix - Tips and Help\"</em> Lesson.</p>"
   ]
  },
  {
   "cell_type": "markdown",
   "id": "b930b575-a2d5-467b-878f-de78e10b6ba5",
   "metadata": {},
   "source": [
    "## Set OpenAI Model"
   ]
  },
  {
   "cell_type": "code",
   "execution_count": 3,
   "id": "91cb8100-3058-4cdc-969b-c64a46a408e4",
   "metadata": {
    "height": 30
   },
   "outputs": [],
   "source": [
    "# os.environ['OPENAI_MODEL_NAME'] = 'gpt-4o-mini'"
   ]
  },
  {
   "cell_type": "code",
   "execution_count": 4,
   "id": "c6c1233c",
   "metadata": {},
   "outputs": [],
   "source": [
    "# Initialize the Ollama LLM\n",
    "llm = LLM(model=\"ollama/llama3.2-vision\", base_url=\"http://localhost:11434\")"
   ]
  },
  {
   "cell_type": "markdown",
   "id": "96b83836-9ccb-47d7-a97b-9a68aebfaa42",
   "metadata": {},
   "source": [
    "## Loading Tasks and Agents YAML files"
   ]
  },
  {
   "cell_type": "code",
   "execution_count": 5,
   "id": "5a4e362d-c010-43dd-88c4-e7db87834fb4",
   "metadata": {
    "height": 268
   },
   "outputs": [],
   "source": [
    "# Define file paths for YAML configurations\n",
    "files = {\n",
    "    'agents': 'config/agents.yaml',\n",
    "    'tasks': 'config/tasks.yaml'\n",
    "}\n",
    "\n",
    "# Load configurations from YAML files\n",
    "configs = {}\n",
    "for config_type, file_path in files.items():\n",
    "    with open(file_path, 'r') as file:\n",
    "        configs[config_type] = yaml.safe_load(file)\n",
    "\n",
    "# Assign loaded configurations to specific variables\n",
    "agents_config = configs['agents']\n",
    "tasks_config = configs['tasks']"
   ]
  },
  {
   "cell_type": "markdown",
   "id": "c5f50c89-a326-4e4c-93a1-79be3fcda14b",
   "metadata": {},
   "source": [
    "## Create Pydantic Models for Structured Output"
   ]
  },
  {
   "cell_type": "code",
   "execution_count": 6,
   "id": "0e8626d2-e48a-4b7e-a061-a8eb492c9036",
   "metadata": {
    "height": 268
   },
   "outputs": [],
   "source": [
    "from typing import List\n",
    "from pydantic import BaseModel, Field\n",
    "\n",
    "class TaskEstimate(BaseModel):\n",
    "    task_name: str = Field(..., description=\"Name of the task\")\n",
    "    estimated_time_hours: float = Field(..., description=\"Estimated time to complete the task in hours\")\n",
    "    required_resources: List[str] = Field(..., description=\"List of resources required to complete the task\")\n",
    "\n",
    "class Milestone(BaseModel):\n",
    "    milestone_name: str = Field(..., description=\"Name of the milestone\")\n",
    "    tasks: List[str] = Field(..., description=\"List of task IDs associated with this milestone\")\n",
    "\n",
    "class ProjectPlan(BaseModel):\n",
    "    tasks: List[TaskEstimate] = Field(..., description=\"List of tasks with their estimates\")\n",
    "    milestones: List[Milestone] = Field(..., description=\"List of project milestones\")"
   ]
  },
  {
   "cell_type": "markdown",
   "id": "92d6524c-48e7-460e-8345-3b7a872b714a",
   "metadata": {},
   "source": [
    "## Create Crew, Agents and Tasks"
   ]
  },
  {
   "cell_type": "code",
   "execution_count": 7,
   "id": "a655927f-c10c-4c06-852a-d9c96fdfbfb9",
   "metadata": {
    "height": 761
   },
   "outputs": [],
   "source": [
    "# Creating Agents\n",
    "project_planning_agent = Agent(\n",
    "  config=agents_config['project_planning_agent'],\n",
    "  llm=llm\n",
    ")\n",
    "\n",
    "estimation_agent = Agent(\n",
    "  config=agents_config['estimation_agent'],\n",
    "  llm=llm\n",
    ")\n",
    "\n",
    "resource_allocation_agent = Agent(\n",
    "  config=agents_config['resource_allocation_agent'],\n",
    "  llm=llm\n",
    ")\n",
    "\n",
    "# Creating Tasks\n",
    "task_breakdown = Task(\n",
    "  config=tasks_config['task_breakdown'],\n",
    "  agent=project_planning_agent,\n",
    ")\n",
    "\n",
    "time_resource_estimation = Task(\n",
    "  config=tasks_config['time_resource_estimation'],\n",
    "  agent=estimation_agent\n",
    ")\n",
    "\n",
    "resource_allocation = Task(\n",
    "  config=tasks_config['resource_allocation'],\n",
    "  agent=resource_allocation_agent,\n",
    "  output_pydantic=ProjectPlan # This is the structured output we want\n",
    ")\n",
    "\n",
    "# Creating Crew\n",
    "crew = Crew(\n",
    "  agents=[\n",
    "    project_planning_agent,\n",
    "    estimation_agent,\n",
    "    resource_allocation_agent\n",
    "  ],\n",
    "  tasks=[\n",
    "    task_breakdown,\n",
    "    time_resource_estimation,\n",
    "    resource_allocation\n",
    "  ],\n",
    "  verbose=True\n",
    ")"
   ]
  },
  {
   "cell_type": "markdown",
   "id": "51b901cf-3630-4662-81a7-762da6773d3b",
   "metadata": {},
   "source": [
    "## Crew's Inputs"
   ]
  },
  {
   "cell_type": "code",
   "execution_count": 8,
   "id": "9e861574-0f9b-4f2c-b2d1-a230fc3a53a3",
   "metadata": {
    "height": 693
   },
   "outputs": [
    {
     "data": {
      "text/markdown": [
       "\n",
       "**Project Type:** Website\n",
       "\n",
       "**Project Objectives:** Create a website for a small business\n",
       "\n",
       "**Industry:** Technology\n",
       "\n",
       "**Team Members:**\n",
       "\n",
       "- John Doe (Project Manager)\n",
       "- Jane Doe (Software Engineer)\n",
       "- Bob Smith (Designer)\n",
       "- Alice Johnson (QA Engineer)\n",
       "- Tom Brown (QA Engineer)\n",
       "\n",
       "**Project Requirements:**\n",
       "\n",
       "- Create a responsive design that works well on desktop and mobile devices\n",
       "- Implement a modern, visually appealing user interface with a clean look\n",
       "- Develop a user-friendly navigation system with intuitive menu structure\n",
       "- Include an \"About Us\" page highlighting the company's history and values\n",
       "- Design a \"Services\" page showcasing the business's offerings with descriptions\n",
       "- Create a \"Contact Us\" page with a form and integrated map for communication\n",
       "- Implement a blog section for sharing industry news and company updates\n",
       "- Ensure fast loading times and optimize for search engines (SEO)\n",
       "- Integrate social media links and sharing capabilities\n",
       "- Include a testimonials section to showcase customer feedback and build trust\n",
       "\n"
      ],
      "text/plain": [
       "<IPython.core.display.Markdown object>"
      ]
     },
     "metadata": {},
     "output_type": "display_data"
    }
   ],
   "source": [
    "from IPython.display import display, Markdown\n",
    "\n",
    "project = 'Website'\n",
    "industry = 'Technology'\n",
    "project_objectives = 'Create a website for a small business'\n",
    "team_members = \"\"\"\n",
    "- John Doe (Project Manager)\n",
    "- Jane Doe (Software Engineer)\n",
    "- Bob Smith (Designer)\n",
    "- Alice Johnson (QA Engineer)\n",
    "- Tom Brown (QA Engineer)\n",
    "\"\"\"\n",
    "project_requirements = \"\"\"\n",
    "- Create a responsive design that works well on desktop and mobile devices\n",
    "- Implement a modern, visually appealing user interface with a clean look\n",
    "- Develop a user-friendly navigation system with intuitive menu structure\n",
    "- Include an \"About Us\" page highlighting the company's history and values\n",
    "- Design a \"Services\" page showcasing the business's offerings with descriptions\n",
    "- Create a \"Contact Us\" page with a form and integrated map for communication\n",
    "- Implement a blog section for sharing industry news and company updates\n",
    "- Ensure fast loading times and optimize for search engines (SEO)\n",
    "- Integrate social media links and sharing capabilities\n",
    "- Include a testimonials section to showcase customer feedback and build trust\n",
    "\"\"\"\n",
    "\n",
    "# Format the dictionary as Markdown for a better display in Jupyter Lab\n",
    "formatted_output = f\"\"\"\n",
    "**Project Type:** {project}\n",
    "\n",
    "**Project Objectives:** {project_objectives}\n",
    "\n",
    "**Industry:** {industry}\n",
    "\n",
    "**Team Members:**\n",
    "{team_members}\n",
    "**Project Requirements:**\n",
    "{project_requirements}\n",
    "\"\"\"\n",
    "# Display the formatted output as Markdown\n",
    "display(Markdown(formatted_output))"
   ]
  },
  {
   "cell_type": "markdown",
   "id": "15198e13-e9ec-44d8-b15e-c97b7b7320bb",
   "metadata": {},
   "source": [
    "## Kicking off the crew"
   ]
  },
  {
   "cell_type": "code",
   "execution_count": 9,
   "id": "fa40b53e-0a49-4198-a263-c79a6a3af603",
   "metadata": {
    "height": 234
   },
   "outputs": [
    {
     "name": "stdout",
     "output_type": "stream",
     "text": [
      "\u001b[1m\u001b[95m# Agent:\u001b[00m \u001b[1m\u001b[92mThe Ultimate Project Planner\u001b[00m\n",
      "\u001b[95m## Task:\u001b[00m \u001b[92mCarefully analyze the project_requirements for the Website project and break them down into individual tasks. Define each task's scope in detail, set achievable timelines, and ensure that all dependencies are accounted for:\n",
      "\n",
      "- Create a responsive design that works well on desktop and mobile devices\n",
      "- Implement a modern, visually appealing user interface with a clean look\n",
      "- Develop a user-friendly navigation system with intuitive menu structure\n",
      "- Include an \"About Us\" page highlighting the company's history and values\n",
      "- Design a \"Services\" page showcasing the business's offerings with descriptions\n",
      "- Create a \"Contact Us\" page with a form and integrated map for communication\n",
      "- Implement a blog section for sharing industry news and company updates\n",
      "- Ensure fast loading times and optimize for search engines (SEO)\n",
      "- Integrate social media links and sharing capabilities\n",
      "- Include a testimonials section to showcase customer feedback and build trust\n",
      "\n",
      "\n",
      "Team members:\n",
      "\n",
      "- John Doe (Project Manager)\n",
      "- Jane Doe (Software Engineer)\n",
      "- Bob Smith (Designer)\n",
      "- Alice Johnson (QA Engineer)\n",
      "- Tom Brown (QA Engineer)\n",
      "\n",
      "\u001b[00m\n",
      "\n",
      "\n",
      "\u001b[1m\u001b[95m# Agent:\u001b[00m \u001b[1m\u001b[92mThe Ultimate Project Planner\u001b[00m\n",
      "\u001b[95m## Final Answer:\u001b[00m \u001b[92m\n",
      "This comprehensive breakdown of tasks, timelines, dependencies, and deliverables ensures that the Website project is executed efficiently and effectively. The Gantt chart provides a visual representation of the project timeline, allowing for easy tracking and management of progress.\u001b[00m\n",
      "\n",
      "\n",
      "\u001b[1m\u001b[95m# Agent:\u001b[00m \u001b[1m\u001b[92mExpert Estimation Analyst\u001b[00m\n",
      "\u001b[95m## Task:\u001b[00m \u001b[92mThoroughly evaluate each task in the Website project to estimate the time, resources, and effort required. Use historical data, task complexity, and available resources to provide a realistic estimation for each task.\n",
      "\u001b[00m\n",
      "\n",
      "\n",
      "\u001b[1m\u001b[95m# Agent:\u001b[00m \u001b[1m\u001b[92mExpert Estimation Analyst\u001b[00m\n",
      "\u001b[95m## Final Answer:\u001b[00m \u001b[92m\n",
      "**Estimation Report for Website Project**\n",
      "\n",
      "**Task 1: Requirements Gathering and Planning**\n",
      "\n",
      "* Time Estimate: 40 hours\n",
      "* Resources Required: 2 Business Analysts, 1 Project Manager\n",
      "* Effort Required: High (due to complex requirements gathering process)\n",
      "* Dependencies: None\n",
      "* Risks/ Uncertainties:\n",
      "\t+ Potential for scope creep due to changing business needs\n",
      "\t+ Difficulty in defining clear and concise functional requirements\n",
      "\n",
      "**Task 2: UI/UX Design**\n",
      "\n",
      "* Time Estimate: 120 hours\n",
      "* Resources Required: 1 UX Designer, 1 UI Designer, 1 Project Manager\n",
      "* Effort Required: Medium (due to iterative design process)\n",
      "* Dependencies:\n",
      "\t+ Task 1 Requirements Gathering and Planning\n",
      "\t+ Task 3 Front-end Development\n",
      "* Risks/ Uncertainties:\n",
      "\t+ Potential for design changes due to user feedback or changing business needs\n",
      "\t+ Difficulty in balancing aesthetics with functional requirements\n",
      "\n",
      "**Task 3: Front-end Development**\n",
      "\n",
      "* Time Estimate: 240 hours\n",
      "* Resources Required: 2 Front-end Developers, 1 Project Manager\n",
      "* Effort Required: High (due to complex front-end functionality)\n",
      "* Dependencies:\n",
      "\t+ Task 2 UI/UX Design\n",
      "\t+ Task 4 Back-end Development\n",
      "* Risks/ Uncertainties:\n",
      "\t+ Potential for technical debt due to poorly designed code or architectures\n",
      "\t+ Difficulty in integrating front-end with back-end components\n",
      "\n",
      "**Task 4: Back-end Development**\n",
      "\n",
      "* Time Estimate: 200 hours\n",
      "* Resources Required: 2 Back-end Developers, 1 Project Manager\n",
      "* Effort Required: High (due to complex business logic and integration)\n",
      "* Dependencies:\n",
      "\t+ Task 3 Front-end Development\n",
      "\t+ Task 5 Testing and Quality Assurance\n",
      "* Risks/ Uncertainties:\n",
      "\t+ Potential for security vulnerabilities due to poorly designed or implemented back-end components\n",
      "\t+ Difficulty in integrating back-end with front-end components\n",
      "\n",
      "**Task 5: Testing and Quality Assurance**\n",
      "\n",
      "* Time Estimate: 80 hours\n",
      "* Resources Required: 1 QA Engineer, 1 Project Manager\n",
      "* Effort Required: Medium (due to iterative testing process)\n",
      "* Dependencies:\n",
      "\t+ Task 4 Back-end Development\n",
      "\t+ Task 6 Deployment\n",
      "* Risks/ Uncertainties:\n",
      "\t+ Potential for defects due to poor testing or quality assurance processes\n",
      "\t+ Difficulty in identifying and prioritizing test cases\n",
      "\n",
      "**Task 6: Deployment**\n",
      "\n",
      "* Time Estimate: 40 hours\n",
      "* Resources Required: 1 DevOps Engineer, 1 Project Manager\n",
      "* Effort Required: Low (due to automated deployment process)\n",
      "* Dependencies:\n",
      "\t+ Task 5 Testing and Quality Assurance\n",
      "\t+ Task 7 Post-Launch Review and Evaluation\n",
      "* Risks/ Uncertainties:\n",
      "\t+ Potential for deployment failures due to poorly designed or implemented infrastructure\n",
      "\t+ Difficulty in ensuring smooth transition from development to production environment\n",
      "\n",
      "**Task 7: Post-Launch Review and Evaluation**\n",
      "\n",
      "* Time Estimate: 20 hours\n",
      "* Resources Required: 1 Project Manager, 1 Business Analyst\n",
      "* Effort Required: Low (due to review and evaluation process)\n",
      "* Dependencies:\n",
      "\t+ Task 6 Deployment\n",
      "* Risks/ Uncertainties:\n",
      "\t+ Potential for post-launch issues due to poor planning or execution\n",
      "\t+ Difficulty in identifying areas for improvement\n",
      "\n",
      "**Project Timeline**\n",
      "\n",
      "* Total Time Estimate: 960 hours\n",
      "* Start Date: [Insert start date]\n",
      "* End Date: [Insert end date]\n",
      "\n",
      "**Resource Allocation**\n",
      "\n",
      "* Business Analysts: 2\n",
      "* Project Manager: 1\n",
      "* UX Designer: 1\n",
      "* UI Designer: 1\n",
      "* Front-end Developers: 2\n",
      "* Back-end Developers: 2\n",
      "* QA Engineer: 1\n",
      "* DevOps Engineer: 1\n",
      "\n",
      "**Risks and Uncertainties**\n",
      "\n",
      "* Potential for scope creep due to changing business needs\n",
      "* Difficulty in defining clear and concise functional requirements\n",
      "* Potential for design changes due to user feedback or changing business needs\n",
      "* Difficulty in balancing aesthetics with functional requirements\n",
      "* Potential for technical debt due to poorly designed code or architectures\n",
      "* Difficulty in integrating front-end with back-end components\n",
      "* Potential for security vulnerabilities due to poorly designed or implemented back-end components\n",
      "* Difficulty in integrating back-end with front-end components\n",
      "* Potential for defects due to poor testing or quality assurance processes\n",
      "* Difficulty in identifying and prioritizing test cases\n",
      "\n",
      "This estimation report provides a comprehensive breakdown of the time, resources, and effort required for each task in the Website project. The report also highlights potential risks and uncertainties associated with each task, ensuring that the project team is aware of potential issues and can take necessary steps to mitigate them.\u001b[00m\n",
      "\n",
      "\n",
      "\u001b[1m\u001b[95m# Agent:\u001b[00m \u001b[1m\u001b[92mResource Allocation Strategist\u001b[00m\n",
      "\u001b[95m## Task:\u001b[00m \u001b[92mStrategically allocate tasks for the Website project to team members based on their skills, availability, and current workload. Ensure that each task is assigned to the most suitable team member and that the workload is evenly distributed.\n",
      "\n",
      "Team members:\n",
      "\n",
      "- John Doe (Project Manager)\n",
      "- Jane Doe (Software Engineer)\n",
      "- Bob Smith (Designer)\n",
      "- Alice Johnson (QA Engineer)\n",
      "- Tom Brown (QA Engineer)\n",
      "\n",
      "\u001b[00m\n",
      "\n",
      "\n",
      "\u001b[1m\u001b[95m# Agent:\u001b[00m \u001b[1m\u001b[92mResource Allocation Strategist\u001b[00m\n",
      "\u001b[95m## Final Answer:\u001b[00m \u001b[92m\n",
      "{\n",
      "  \"tasks\": [\n",
      "    {\n",
      "      \"task_name\": \"Requirements Gathering and Planning\",\n",
      "      \"estimated_time_hours\": 40.0,\n",
      "      \"required_resources\": [\"John Doe\", \"Jane Doe\"]\n",
      "    },\n",
      "    {\n",
      "      \"task_name\": \"UI/UX Design\",\n",
      "      \"estimated_time_hours\": 120.0,\n",
      "      \"required_resources\": [\"Bob Smith\", \"John Doe\"]\n",
      "    },\n",
      "    {\n",
      "      \"task_name\": \"Front-end Development\",\n",
      "      \"estimated_time_hours\": 240.0,\n",
      "      \"required_resources\": [\"Jane Doe\", \"Tom Brown\"]\n",
      "    },\n",
      "    {\n",
      "      \"task_name\": \"Back-end Development\",\n",
      "      \"estimated_time_hours\": 200.0,\n",
      "      \"required_resources\": [\"John Doe\", \"Bob Smith\"]\n",
      "    },\n",
      "    {\n",
      "      \"task_name\": \"Testing and Quality Assurance\",\n",
      "      \"estimated_time_hours\": 80.0,\n",
      "      \"required_resources\": [\"Alice Johnson\"]\n",
      "    },\n",
      "    {\n",
      "      \"task_name\": \"Deployment\",\n",
      "      \"estimated_time_hours\": 40.0,\n",
      "      \"required_resources\": [\"Tom Brown\", \"John Doe\"]\n",
      "    },\n",
      "    {\n",
      "      \"task_name\": \"Post-Launch Review and Evaluation\",\n",
      "      \"estimated_time_hours\": 20.0,\n",
      "      \"required_resources\": [\"Jane Doe\", \"John Doe\"]\n",
      "    }\n",
      "  ],\n",
      "  \"milestones\": [\n",
      "    {\n",
      "      \"milestone_name\": \"Requirements Gathering and Planning Completion\",\n",
      "      \"tasks\": [\"Requirements Gathering and Planning\"]\n",
      "    },\n",
      "    {\n",
      "      \"milestone_name\": \"UI/UX Design Completion\",\n",
      "      \"tasks\": [\"UI/UX Design\"]\n",
      "    },\n",
      "    {\n",
      "      \"milestone_name\": \"Front-end Development Completion\",\n",
      "      \"tasks\": [\"Front-end Development\"]\n",
      "    },\n",
      "    {\n",
      "      \"milestone_name\": \"Back-end Development Completion\",\n",
      "      \"tasks\": [\"Back-end Development\"]\n",
      "    },\n",
      "    {\n",
      "      \"milestone_name\": \"Testing and Quality Assurance Completion\",\n",
      "      \"tasks\": [\"Testing and Quality Assurance\"]\n",
      "    },\n",
      "    {\n",
      "      \"milestone_name\": \"Deployment Completion\",\n",
      "      \"tasks\": [\"Deployment\"]\n",
      "    },\n",
      "    {\n",
      "      \"milestone_name\": \"Post-Launch Review and Evaluation Completion\",\n",
      "      \"tasks\": [\"Post-Launch Review and Evaluation\"]\n",
      "    }\n",
      "  ]\n",
      "}\u001b[00m\n",
      "\n",
      "\n"
     ]
    }
   ],
   "source": [
    "# The given Python dictionary\n",
    "inputs = {\n",
    "  'project_type': project,\n",
    "  'project_objectives': project_objectives,\n",
    "  'industry': industry,\n",
    "  'team_members': team_members,\n",
    "  'project_requirements': project_requirements\n",
    "}\n",
    "\n",
    "# Run the crew\n",
    "result = crew.kickoff(\n",
    "  inputs=inputs\n",
    ")"
   ]
  },
  {
   "cell_type": "markdown",
   "id": "7879258f-52df-4503-b08e-acd516d0a946",
   "metadata": {},
   "source": [
    "## Usage Metrics and Costs"
   ]
  },
  {
   "cell_type": "markdown",
   "id": "d94dad33-91c9-4aac-8e16-24117dbbef46",
   "metadata": {},
   "source": [
    "Let’s see how much it would cost each time if this crew runs at scale."
   ]
  },
  {
   "cell_type": "code",
   "execution_count": 10,
   "id": "66b3b165-2a4b-46cc-93f7-696dffff1e10",
   "metadata": {
    "height": 149
   },
   "outputs": [
    {
     "name": "stdout",
     "output_type": "stream",
     "text": [
      "Total costs: $0.0016\n"
     ]
    },
    {
     "data": {
      "text/html": [
       "<div>\n",
       "<style scoped>\n",
       "    .dataframe tbody tr th:only-of-type {\n",
       "        vertical-align: middle;\n",
       "    }\n",
       "\n",
       "    .dataframe tbody tr th {\n",
       "        vertical-align: top;\n",
       "    }\n",
       "\n",
       "    .dataframe thead th {\n",
       "        text-align: right;\n",
       "    }\n",
       "</style>\n",
       "<table border=\"1\" class=\"dataframe\">\n",
       "  <thead>\n",
       "    <tr style=\"text-align: right;\">\n",
       "      <th></th>\n",
       "      <th>total_tokens</th>\n",
       "      <th>prompt_tokens</th>\n",
       "      <th>cached_prompt_tokens</th>\n",
       "      <th>completion_tokens</th>\n",
       "      <th>successful_requests</th>\n",
       "    </tr>\n",
       "  </thead>\n",
       "  <tbody>\n",
       "    <tr>\n",
       "      <th>0</th>\n",
       "      <td>10797</td>\n",
       "      <td>3320</td>\n",
       "      <td>0</td>\n",
       "      <td>7477</td>\n",
       "      <td>6</td>\n",
       "    </tr>\n",
       "  </tbody>\n",
       "</table>\n",
       "</div>"
      ],
      "text/plain": [
       "   total_tokens  prompt_tokens  cached_prompt_tokens  completion_tokens  \\\n",
       "0         10797           3320                     0               7477   \n",
       "\n",
       "   successful_requests  \n",
       "0                    6  "
      ]
     },
     "execution_count": 10,
     "metadata": {},
     "output_type": "execute_result"
    }
   ],
   "source": [
    "import pandas as pd\n",
    "\n",
    "costs = 0.150 * (crew.usage_metrics.prompt_tokens + crew.usage_metrics.completion_tokens) / 1_000_000\n",
    "print(f\"Total costs: ${costs:.4f}\")\n",
    "\n",
    "# Convert UsageMetrics instance to a DataFrame\n",
    "df_usage_metrics = pd.DataFrame([crew.usage_metrics.dict()])\n",
    "df_usage_metrics"
   ]
  },
  {
   "cell_type": "markdown",
   "id": "4982e83a-9e54-4510-9f06-751b34848287",
   "metadata": {},
   "source": [
    "## Result"
   ]
  },
  {
   "cell_type": "code",
   "execution_count": 11,
   "id": "6396b0f6-e3ae-4a89-a3e9-ca53aa042c40",
   "metadata": {
    "height": 30
   },
   "outputs": [
    {
     "data": {
      "text/plain": [
       "{'tasks': [{'task_name': 'Requirements Gathering and Planning',\n",
       "   'estimated_time_hours': 40.0,\n",
       "   'required_resources': ['John Doe', 'Jane Doe']},\n",
       "  {'task_name': 'UI/UX Design',\n",
       "   'estimated_time_hours': 120.0,\n",
       "   'required_resources': ['Bob Smith', 'John Doe']},\n",
       "  {'task_name': 'Front-end Development',\n",
       "   'estimated_time_hours': 240.0,\n",
       "   'required_resources': ['Jane Doe', 'Tom Brown']},\n",
       "  {'task_name': 'Back-end Development',\n",
       "   'estimated_time_hours': 200.0,\n",
       "   'required_resources': ['John Doe', 'Bob Smith']},\n",
       "  {'task_name': 'Testing and Quality Assurance',\n",
       "   'estimated_time_hours': 80.0,\n",
       "   'required_resources': ['Alice Johnson']},\n",
       "  {'task_name': 'Deployment',\n",
       "   'estimated_time_hours': 40.0,\n",
       "   'required_resources': ['Tom Brown', 'John Doe']},\n",
       "  {'task_name': 'Post-Launch Review and Evaluation',\n",
       "   'estimated_time_hours': 20.0,\n",
       "   'required_resources': ['Jane Doe', 'John Doe']}],\n",
       " 'milestones': [{'milestone_name': 'Requirements Gathering and Planning Completion',\n",
       "   'tasks': ['Requirements Gathering and Planning']},\n",
       "  {'milestone_name': 'UI/UX Design Completion', 'tasks': ['UI/UX Design']},\n",
       "  {'milestone_name': 'Front-end Development Completion',\n",
       "   'tasks': ['Front-end Development']},\n",
       "  {'milestone_name': 'Back-end Development Completion',\n",
       "   'tasks': ['Back-end Development']},\n",
       "  {'milestone_name': 'Testing and Quality Assurance Completion',\n",
       "   'tasks': ['Testing and Quality Assurance']},\n",
       "  {'milestone_name': 'Deployment Completion', 'tasks': ['Deployment']},\n",
       "  {'milestone_name': 'Post-Launch Review and Evaluation Completion',\n",
       "   'tasks': ['Post-Launch Review and Evaluation']}]}"
      ]
     },
     "execution_count": 11,
     "metadata": {},
     "output_type": "execute_result"
    }
   ],
   "source": [
    "result.pydantic.dict()"
   ]
  },
  {
   "cell_type": "markdown",
   "id": "18ffcc83-350e-4f99-b03b-458690cc0ed2",
   "metadata": {},
   "source": [
    "## Inspect further"
   ]
  },
  {
   "cell_type": "code",
   "execution_count": 12,
   "id": "da1bbf90-4bfc-4529-84dd-d0bd00198353",
   "metadata": {
    "height": 132
   },
   "outputs": [
    {
     "data": {
      "text/html": [
       "<style type=\"text/css\">\n",
       "#T_34591 th {\n",
       "  font-size: 120%;\n",
       "}\n",
       "#T_34591  td {\n",
       "  font-size: 120%;\n",
       "}\n",
       "</style>\n",
       "<table id=\"T_34591\" border=\"1\">\n",
       "  <caption>Task Details</caption>\n",
       "  <thead>\n",
       "    <tr>\n",
       "      <th class=\"blank level0\" >&nbsp;</th>\n",
       "      <th id=\"T_34591_level0_col0\" class=\"col_heading level0 col0\" >task_name</th>\n",
       "      <th id=\"T_34591_level0_col1\" class=\"col_heading level0 col1\" >estimated_time_hours</th>\n",
       "      <th id=\"T_34591_level0_col2\" class=\"col_heading level0 col2\" >required_resources</th>\n",
       "    </tr>\n",
       "  </thead>\n",
       "  <tbody>\n",
       "    <tr>\n",
       "      <th id=\"T_34591_level0_row0\" class=\"row_heading level0 row0\" >0</th>\n",
       "      <td id=\"T_34591_row0_col0\" class=\"data row0 col0\" >Requirements Gathering and Planning</td>\n",
       "      <td id=\"T_34591_row0_col1\" class=\"data row0 col1\" >40.000000</td>\n",
       "      <td id=\"T_34591_row0_col2\" class=\"data row0 col2\" >['John Doe', 'Jane Doe']</td>\n",
       "    </tr>\n",
       "    <tr>\n",
       "      <th id=\"T_34591_level0_row1\" class=\"row_heading level0 row1\" >1</th>\n",
       "      <td id=\"T_34591_row1_col0\" class=\"data row1 col0\" >UI/UX Design</td>\n",
       "      <td id=\"T_34591_row1_col1\" class=\"data row1 col1\" >120.000000</td>\n",
       "      <td id=\"T_34591_row1_col2\" class=\"data row1 col2\" >['Bob Smith', 'John Doe']</td>\n",
       "    </tr>\n",
       "    <tr>\n",
       "      <th id=\"T_34591_level0_row2\" class=\"row_heading level0 row2\" >2</th>\n",
       "      <td id=\"T_34591_row2_col0\" class=\"data row2 col0\" >Front-end Development</td>\n",
       "      <td id=\"T_34591_row2_col1\" class=\"data row2 col1\" >240.000000</td>\n",
       "      <td id=\"T_34591_row2_col2\" class=\"data row2 col2\" >['Jane Doe', 'Tom Brown']</td>\n",
       "    </tr>\n",
       "    <tr>\n",
       "      <th id=\"T_34591_level0_row3\" class=\"row_heading level0 row3\" >3</th>\n",
       "      <td id=\"T_34591_row3_col0\" class=\"data row3 col0\" >Back-end Development</td>\n",
       "      <td id=\"T_34591_row3_col1\" class=\"data row3 col1\" >200.000000</td>\n",
       "      <td id=\"T_34591_row3_col2\" class=\"data row3 col2\" >['John Doe', 'Bob Smith']</td>\n",
       "    </tr>\n",
       "    <tr>\n",
       "      <th id=\"T_34591_level0_row4\" class=\"row_heading level0 row4\" >4</th>\n",
       "      <td id=\"T_34591_row4_col0\" class=\"data row4 col0\" >Testing and Quality Assurance</td>\n",
       "      <td id=\"T_34591_row4_col1\" class=\"data row4 col1\" >80.000000</td>\n",
       "      <td id=\"T_34591_row4_col2\" class=\"data row4 col2\" >['Alice Johnson']</td>\n",
       "    </tr>\n",
       "    <tr>\n",
       "      <th id=\"T_34591_level0_row5\" class=\"row_heading level0 row5\" >5</th>\n",
       "      <td id=\"T_34591_row5_col0\" class=\"data row5 col0\" >Deployment</td>\n",
       "      <td id=\"T_34591_row5_col1\" class=\"data row5 col1\" >40.000000</td>\n",
       "      <td id=\"T_34591_row5_col2\" class=\"data row5 col2\" >['Tom Brown', 'John Doe']</td>\n",
       "    </tr>\n",
       "    <tr>\n",
       "      <th id=\"T_34591_level0_row6\" class=\"row_heading level0 row6\" >6</th>\n",
       "      <td id=\"T_34591_row6_col0\" class=\"data row6 col0\" >Post-Launch Review and Evaluation</td>\n",
       "      <td id=\"T_34591_row6_col1\" class=\"data row6 col1\" >20.000000</td>\n",
       "      <td id=\"T_34591_row6_col2\" class=\"data row6 col2\" >['Jane Doe', 'John Doe']</td>\n",
       "    </tr>\n",
       "  </tbody>\n",
       "</table>\n"
      ],
      "text/plain": [
       "<pandas.io.formats.style.Styler at 0x311c191d0>"
      ]
     },
     "execution_count": 12,
     "metadata": {},
     "output_type": "execute_result"
    }
   ],
   "source": [
    "tasks = result.pydantic.dict()['tasks']\n",
    "df_tasks = pd.DataFrame(tasks)\n",
    "\n",
    "# Display the DataFrame as an HTML table\n",
    "df_tasks.style.set_table_attributes('border=\"1\"').set_caption(\"Task Details\").set_table_styles(\n",
    "    [{'selector': 'th, td', 'props': [('font-size', '120%')]}]\n",
    ")"
   ]
  },
  {
   "cell_type": "markdown",
   "id": "1210cae8-e028-4f7e-90ed-950ef86d41e5",
   "metadata": {},
   "source": [
    "### Inspecting Milestones"
   ]
  },
  {
   "cell_type": "code",
   "execution_count": 13,
   "id": "91c2f18c-2d5b-41a9-837b-265e7aa245d0",
   "metadata": {
    "height": 132
   },
   "outputs": [
    {
     "data": {
      "text/html": [
       "<style type=\"text/css\">\n",
       "#T_f5ab4 th {\n",
       "  font-size: 120%;\n",
       "}\n",
       "#T_f5ab4  td {\n",
       "  font-size: 120%;\n",
       "}\n",
       "</style>\n",
       "<table id=\"T_f5ab4\" border=\"1\">\n",
       "  <caption>Task Details</caption>\n",
       "  <thead>\n",
       "    <tr>\n",
       "      <th class=\"blank level0\" >&nbsp;</th>\n",
       "      <th id=\"T_f5ab4_level0_col0\" class=\"col_heading level0 col0\" >milestone_name</th>\n",
       "      <th id=\"T_f5ab4_level0_col1\" class=\"col_heading level0 col1\" >tasks</th>\n",
       "    </tr>\n",
       "  </thead>\n",
       "  <tbody>\n",
       "    <tr>\n",
       "      <th id=\"T_f5ab4_level0_row0\" class=\"row_heading level0 row0\" >0</th>\n",
       "      <td id=\"T_f5ab4_row0_col0\" class=\"data row0 col0\" >Requirements Gathering and Planning Completion</td>\n",
       "      <td id=\"T_f5ab4_row0_col1\" class=\"data row0 col1\" >['Requirements Gathering and Planning']</td>\n",
       "    </tr>\n",
       "    <tr>\n",
       "      <th id=\"T_f5ab4_level0_row1\" class=\"row_heading level0 row1\" >1</th>\n",
       "      <td id=\"T_f5ab4_row1_col0\" class=\"data row1 col0\" >UI/UX Design Completion</td>\n",
       "      <td id=\"T_f5ab4_row1_col1\" class=\"data row1 col1\" >['UI/UX Design']</td>\n",
       "    </tr>\n",
       "    <tr>\n",
       "      <th id=\"T_f5ab4_level0_row2\" class=\"row_heading level0 row2\" >2</th>\n",
       "      <td id=\"T_f5ab4_row2_col0\" class=\"data row2 col0\" >Front-end Development Completion</td>\n",
       "      <td id=\"T_f5ab4_row2_col1\" class=\"data row2 col1\" >['Front-end Development']</td>\n",
       "    </tr>\n",
       "    <tr>\n",
       "      <th id=\"T_f5ab4_level0_row3\" class=\"row_heading level0 row3\" >3</th>\n",
       "      <td id=\"T_f5ab4_row3_col0\" class=\"data row3 col0\" >Back-end Development Completion</td>\n",
       "      <td id=\"T_f5ab4_row3_col1\" class=\"data row3 col1\" >['Back-end Development']</td>\n",
       "    </tr>\n",
       "    <tr>\n",
       "      <th id=\"T_f5ab4_level0_row4\" class=\"row_heading level0 row4\" >4</th>\n",
       "      <td id=\"T_f5ab4_row4_col0\" class=\"data row4 col0\" >Testing and Quality Assurance Completion</td>\n",
       "      <td id=\"T_f5ab4_row4_col1\" class=\"data row4 col1\" >['Testing and Quality Assurance']</td>\n",
       "    </tr>\n",
       "    <tr>\n",
       "      <th id=\"T_f5ab4_level0_row5\" class=\"row_heading level0 row5\" >5</th>\n",
       "      <td id=\"T_f5ab4_row5_col0\" class=\"data row5 col0\" >Deployment Completion</td>\n",
       "      <td id=\"T_f5ab4_row5_col1\" class=\"data row5 col1\" >['Deployment']</td>\n",
       "    </tr>\n",
       "    <tr>\n",
       "      <th id=\"T_f5ab4_level0_row6\" class=\"row_heading level0 row6\" >6</th>\n",
       "      <td id=\"T_f5ab4_row6_col0\" class=\"data row6 col0\" >Post-Launch Review and Evaluation Completion</td>\n",
       "      <td id=\"T_f5ab4_row6_col1\" class=\"data row6 col1\" >['Post-Launch Review and Evaluation']</td>\n",
       "    </tr>\n",
       "  </tbody>\n",
       "</table>\n"
      ],
      "text/plain": [
       "<pandas.io.formats.style.Styler at 0x3139aec10>"
      ]
     },
     "execution_count": 13,
     "metadata": {},
     "output_type": "execute_result"
    }
   ],
   "source": [
    "milestones = result.pydantic.dict()['milestones']\n",
    "df_milestones = pd.DataFrame(milestones)\n",
    "\n",
    "# Display the DataFrame as an HTML table\n",
    "df_milestones.style.set_table_attributes('border=\"1\"').set_caption(\"Task Details\").set_table_styles(\n",
    "    [{'selector': 'th, td', 'props': [('font-size', '120%')]}]\n",
    ")"
   ]
  },
  {
   "cell_type": "code",
   "execution_count": null,
   "id": "a593fd80-36ef-48a1-a7c7-e45c37815f67",
   "metadata": {
    "height": 30
   },
   "outputs": [],
   "source": []
  },
  {
   "cell_type": "code",
   "execution_count": null,
   "id": "2e2c2526-de6d-4006-bd25-8c51e1f3d5f7",
   "metadata": {
    "height": 30
   },
   "outputs": [],
   "source": []
  },
  {
   "cell_type": "code",
   "execution_count": null,
   "id": "1ac3e1e0-e14f-446e-a912-18794337925c",
   "metadata": {
    "height": 30
   },
   "outputs": [],
   "source": []
  },
  {
   "cell_type": "code",
   "execution_count": null,
   "id": "c34b5062-29e2-4fbb-b771-02f5f547e47c",
   "metadata": {
    "height": 30
   },
   "outputs": [],
   "source": []
  },
  {
   "cell_type": "code",
   "execution_count": null,
   "id": "70303180-389e-4e90-8444-aba384ec8751",
   "metadata": {
    "height": 30
   },
   "outputs": [],
   "source": []
  },
  {
   "cell_type": "code",
   "execution_count": null,
   "id": "109926d3-50e5-43e7-87f8-a1d38e45d79d",
   "metadata": {
    "height": 30
   },
   "outputs": [],
   "source": []
  }
 ],
 "metadata": {
  "kernelspec": {
   "display_name": "venv",
   "language": "python",
   "name": "python3"
  },
  "language_info": {
   "codemirror_mode": {
    "name": "ipython",
    "version": 3
   },
   "file_extension": ".py",
   "mimetype": "text/x-python",
   "name": "python",
   "nbconvert_exporter": "python",
   "pygments_lexer": "ipython3",
   "version": "3.11.10"
  }
 },
 "nbformat": 4,
 "nbformat_minor": 5
}
