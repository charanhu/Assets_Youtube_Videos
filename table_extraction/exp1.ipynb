{
 "cells": [
  {
   "cell_type": "code",
   "execution_count": null,
   "metadata": {},
   "outputs": [],
   "source": [
    "from pdf2image import convert_from_path\n",
    "from img2table.document import Image\n",
    "from img2table.ocr import TesseractOCR\n",
    "from io import BytesIO\n",
    "\n",
    "# Convert PDF to images\n",
    "images = convert_from_path(\"table.pdf\")\n",
    "\n",
    "# Initialize OCR\n",
    "ocr = TesseractOCR()\n",
    "\n",
    "# Process each image\n",
    "for img in images:\n",
    "    # Convert PIL image to bytes\n",
    "    img_byte_arr = BytesIO()\n",
    "    img.save(img_byte_arr, format='PNG')\n",
    "    img_byte_arr = img_byte_arr.getvalue()\n",
    "    \n",
    "    # Create Image object from bytes\n",
    "    image = Image(src=img_byte_arr)\n",
    "    \n",
    "    # Extract tables\n",
    "    tables = image.extract_tables(ocr=ocr)\n",
    "    \n",
    "    # Process extracted tables\n",
    "    for table in tables:\n",
    "        print(table.df)\n"
   ]
  },
  {
   "cell_type": "code",
   "execution_count": null,
   "metadata": {},
   "outputs": [],
   "source": [
    "from PIL import Image\n",
    "import pytesseract\n",
    "\n",
    "# Load the image\n",
    "img = Image.open('image copy.png')\n",
    "\n",
    "# Extract text\n",
    "text = pytesseract.image_to_string(img)\n",
    "print(text)\n"
   ]
  },
  {
   "cell_type": "code",
   "execution_count": null,
   "metadata": {},
   "outputs": [],
   "source": [
    "import cv2\n",
    "import pytesseract\n",
    "\n",
    "# Load the image\n",
    "img = cv2.imread('image.png', 0)\n",
    "\n",
    "# Pre-process (thresholding for better OCR)\n",
    "_, thresh = cv2.threshold(img, 150, 255, cv2.THRESH_BINARY)\n",
    "\n",
    "# OCR to extract text\n",
    "extracted_text = pytesseract.image_to_string(thresh)\n",
    "print(extracted_text)\n"
   ]
  },
  {
   "cell_type": "code",
   "execution_count": 2,
   "metadata": {},
   "outputs": [
    {
     "name": "stderr",
     "output_type": "stream",
     "text": [
      "/Users/charan/VSCode/GITHUB/Assets_Youtube_Videos/venv/lib/python3.11/site-packages/ultralytics/nn/tasks.py:634: FutureWarning: You are using `torch.load` with `weights_only=False` (the current default value), which uses the default pickle module implicitly. It is possible to construct malicious pickle data which will execute arbitrary code during unpickling (See https://github.com/pytorch/pytorch/blob/main/SECURITY.md#untrusted-models for more details). In a future release, the default value for `weights_only` will be flipped to `True`. This limits the functions that could be executed during unpickling. Arbitrary objects will no longer be allowed to be loaded via this mode unless they are explicitly allowlisted by the user via `torch.serialization.add_safe_globals`. We recommend you start setting `weights_only=True` for any use case where you don't have full control of the loaded file. Please open an issue on GitHub for any issues related to this experimental feature.\n",
      "  return torch.load(file, map_location=\"cpu\"), file  # load\n"
     ]
    },
    {
     "name": "stdout",
     "output_type": "stream",
     "text": [
      "\n",
      "image 1/1 /Users/charan/VSCode/GITHUB/Assets_Youtube_Videos/table_extraction/image.png: 384x640 1 borderless, 31.1ms\n",
      "Speed: 1.9ms preprocess, 31.1ms inference, 0.9ms postprocess per image at shape (1, 3, 384, 640)\n",
      "ultralytics.engine.results.Boxes object with attributes:\n",
      "\n",
      "cls: tensor([1.])\n",
      "conf: tensor([0.6947])\n",
      "data: tensor([[8.3500e+01, 1.8918e+02, 1.3243e+03, 7.3153e+02, 6.9467e-01, 1.0000e+00]])\n",
      "id: None\n",
      "is_track: False\n",
      "orig_shape: (818, 1408)\n",
      "shape: torch.Size([1, 6])\n",
      "xywh: tensor([[ 703.9117,  460.3538, 1240.8232,  542.3551]])\n",
      "xywhn: tensor([[0.4999, 0.5628, 0.8813, 0.6630]])\n",
      "xyxy: tensor([[  83.5001,  189.1762, 1324.3234,  731.5314]])\n",
      "xyxyn: tensor([[0.0593, 0.2313, 0.9406, 0.8943]])\n"
     ]
    }
   ],
   "source": [
    "from ultralyticsplus import YOLO, render_result\n",
    "\n",
    "# load model\n",
    "model = YOLO('keremberke/yolov8n-table-extraction')\n",
    "\n",
    "# set model parameters\n",
    "model.overrides['conf'] = 0.25  # NMS confidence threshold\n",
    "model.overrides['iou'] = 0.45  # NMS IoU threshold\n",
    "model.overrides['agnostic_nms'] = False  # NMS class-agnostic\n",
    "model.overrides['max_det'] = 1000  # maximum number of detections per image\n",
    "\n",
    "# set image\n",
    "image = 'image.png'\n",
    "\n",
    "# perform inference\n",
    "results = model.predict(image)\n",
    "\n",
    "# observe results\n",
    "print(results[0].boxes)\n",
    "render = render_result(model=model, image=image, result=results[0])\n",
    "render.show()\n"
   ]
  },
  {
   "cell_type": "code",
   "execution_count": null,
   "metadata": {},
   "outputs": [],
   "source": []
  }
 ],
 "metadata": {
  "kernelspec": {
   "display_name": "venv",
   "language": "python",
   "name": "python3"
  },
  "language_info": {
   "codemirror_mode": {
    "name": "ipython",
    "version": 3
   },
   "file_extension": ".py",
   "mimetype": "text/x-python",
   "name": "python",
   "nbconvert_exporter": "python",
   "pygments_lexer": "ipython3",
   "version": "3.11.10"
  }
 },
 "nbformat": 4,
 "nbformat_minor": 2
}
