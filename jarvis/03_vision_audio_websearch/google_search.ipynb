{
 "cells": [
  {
   "cell_type": "code",
   "execution_count": 1,
   "metadata": {},
   "outputs": [
    {
     "name": "stdout",
     "output_type": "stream",
     "text": [
      "Requirement already satisfied: beautifulsoup4 in /Users/charan/VSCode/GITHUB/Assets_Youtube_Videos/venv/lib/python3.11/site-packages (4.12.3)\n",
      "Requirement already satisfied: soupsieve>1.2 in /Users/charan/VSCode/GITHUB/Assets_Youtube_Videos/venv/lib/python3.11/site-packages (from beautifulsoup4) (2.6)\n",
      "Note: you may need to restart the kernel to use updated packages.\n",
      "Collecting google\n",
      "  Using cached google-3.0.0-py2.py3-none-any.whl.metadata (627 bytes)\n",
      "Requirement already satisfied: beautifulsoup4 in /Users/charan/VSCode/GITHUB/Assets_Youtube_Videos/venv/lib/python3.11/site-packages (from google) (4.12.3)\n",
      "Requirement already satisfied: soupsieve>1.2 in /Users/charan/VSCode/GITHUB/Assets_Youtube_Videos/venv/lib/python3.11/site-packages (from beautifulsoup4->google) (2.6)\n",
      "Using cached google-3.0.0-py2.py3-none-any.whl (45 kB)\n",
      "Installing collected packages: google\n",
      "Successfully installed google-3.0.0\n",
      "Note: you may need to restart the kernel to use updated packages.\n"
     ]
    }
   ],
   "source": [
    "%pip install beautifulsoup4\n",
    "%pip install google"
   ]
  },
  {
   "cell_type": "code",
   "execution_count": 2,
   "metadata": {},
   "outputs": [
    {
     "name": "stdout",
     "output_type": "stream",
     "text": [
      "https://www.geeksforgeeks.org/\n",
      "https://in.linkedin.com/company/geeksforgeeks\n",
      "https://www.youtube.com/channel/UC0RhatS1pyxInC00YKjjBqQ\n",
      "https://www.instagram.com/geeks_for_geeks/?hl=en\n",
      "https://geeksforgeeks.zohorecruit.in/jobs/Careers\n",
      "https://geeksforgeeks.zohorecruit.in/jobs/Careers/61093000009119478/TCE-GATE-CS-?source=CareerSite\n",
      "https://geeksforgeeks.zohorecruit.in/jobs/Careers/61093000008263178/DSA-Mentor-Intern?source=CareerSite\n",
      "https://geeksforgeeks.zohorecruit.in/jobs/Careers/61093000009276306/DevOps-Engineer?source=Google\n",
      "https://www.instagram.com/geeks_for_geeks/reel/DEkEemiTPiF/\n",
      "https://github.com/Hunterdii/GeeksforGeeks-POTD\n"
     ]
    }
   ],
   "source": [
    "try:\n",
    "    from googlesearch import search\n",
    "except ImportError:\n",
    "    print(\"No module named 'google' found. Please install the package.\")\n",
    "\n",
    "# Define your search query\n",
    "query = \"GeeksforGeeks\"\n",
    "\n",
    "# Perform the search and print URLs\n",
    "for url in search(query, tld=\"co.in\", num=10, stop=10, pause=2):\n",
    "    print(url)\n"
   ]
  },
  {
   "cell_type": "code",
   "execution_count": 3,
   "metadata": {},
   "outputs": [
    {
     "name": "stdout",
     "output_type": "stream",
     "text": [
      "Requirement already satisfied: beautifulsoup4 in /Users/charan/VSCode/GITHUB/Assets_Youtube_Videos/venv/lib/python3.11/site-packages (4.12.3)\n",
      "Requirement already satisfied: google in /Users/charan/VSCode/GITHUB/Assets_Youtube_Videos/venv/lib/python3.11/site-packages (3.0.0)\n",
      "Requirement already satisfied: requests in /Users/charan/VSCode/GITHUB/Assets_Youtube_Videos/venv/lib/python3.11/site-packages (2.32.2)\n",
      "Requirement already satisfied: soupsieve>1.2 in /Users/charan/VSCode/GITHUB/Assets_Youtube_Videos/venv/lib/python3.11/site-packages (from beautifulsoup4) (2.6)\n",
      "Requirement already satisfied: charset-normalizer<4,>=2 in /Users/charan/VSCode/GITHUB/Assets_Youtube_Videos/venv/lib/python3.11/site-packages (from requests) (3.4.0)\n",
      "Requirement already satisfied: idna<4,>=2.5 in /Users/charan/VSCode/GITHUB/Assets_Youtube_Videos/venv/lib/python3.11/site-packages (from requests) (3.7)\n",
      "Requirement already satisfied: urllib3<3,>=1.21.1 in /Users/charan/VSCode/GITHUB/Assets_Youtube_Videos/venv/lib/python3.11/site-packages (from requests) (2.2.3)\n",
      "Requirement already satisfied: certifi>=2017.4.17 in /Users/charan/VSCode/GITHUB/Assets_Youtube_Videos/venv/lib/python3.11/site-packages (from requests) (2024.8.30)\n",
      "Note: you may need to restart the kernel to use updated packages.\n"
     ]
    }
   ],
   "source": [
    "%pip install beautifulsoup4 google requests"
   ]
  },
  {
   "cell_type": "code",
   "execution_count": 4,
   "metadata": {},
   "outputs": [
    {
     "name": "stdout",
     "output_type": "stream",
     "text": [
      "\n",
      "--- Fetching content from URL 1: https://www.geeksforgeeks.org/ ---\n",
      "GeeksforGeeks | A computer science portal for geeks Courses Tutorials Jobs Practice Contests Data Structure Java Python HTML Interview Preparation Trending Now DSA Web Tech Foundational Courses Data Science Practice Problem Python Machine Learning JavaScript System Design Django DevOps Tutorial Java C C++ ReactJS NodeJS CP Live Aptitude Puzzles Projects Hello, What Do You Want To Learn? Master DS & ML Go Premium Full Stack Live Classes Courses View All 4.4 DSA to Development: A Complete Guide Be...\n",
      "\n",
      "--- Fetching content from URL 2: https://twitter.com/geeksforgeeks?ref_src=twsrc%5Egoogle%7Ctwcamp%5Eserp%7Ctwgr%5Eauthor ---\n",
      "x.com\n",
      "\n",
      "--- Fetching content from URL 3: https://twitter.com/geeksforgeeks/status/1877192046496059633?ref_src=twsrc%5Egoogle%7Ctwcamp%5Eserp%7Ctwgr%5Etweet ---\n",
      "x.com\n",
      "\n",
      "--- Fetching content from URL 4: https://twitter.com/geeksforgeeks/status/1876954504135905706?ref_src=twsrc%5Egoogle%7Ctwcamp%5Eserp%7Ctwgr%5Etweet ---\n",
      "x.com\n",
      "\n",
      "--- Fetching content from URL 5: https://twitter.com/geeksforgeeks/status/1876918015167795219?ref_src=twsrc%5Egoogle%7Ctwcamp%5Eserp%7Ctwgr%5Etweet ---\n",
      "x.com\n"
     ]
    }
   ],
   "source": [
    "try:\n",
    "    from googlesearch import search\n",
    "    import requests\n",
    "    from bs4 import BeautifulSoup\n",
    "except ImportError as e:\n",
    "    print(f\"Required module not found: {e.name}. Please install it.\")\n",
    "    exit(1)\n",
    "\n",
    "# Define your search query\n",
    "query = \"GeeksforGeeks\"\n",
    "\n",
    "# Retrieve top 5 URLs using googlesearch\n",
    "urls = []\n",
    "for url in search(query, tld=\"com\", num=5, stop=5, pause=2):\n",
    "    urls.append(url)\n",
    "\n",
    "# Loop through each URL and fetch its content\n",
    "for index, url in enumerate(urls, start=1):\n",
    "    print(f\"\\n--- Fetching content from URL {index}: {url} ---\")\n",
    "    try:\n",
    "        response = requests.get(url, timeout=10)\n",
    "        response.raise_for_status()  # Raise an error for bad status codes\n",
    "    except requests.RequestException as e:\n",
    "        print(f\"Failed to retrieve {url}: {e}\")\n",
    "        continue\n",
    "\n",
    "    # Parse the HTML content using BeautifulSoup\n",
    "    soup = BeautifulSoup(response.text, \"html.parser\")\n",
    "\n",
    "    # Extract visible text from the page\n",
    "    # This removes script/style tags and extra whitespace\n",
    "    for script in soup([\"script\", \"style\"]):\n",
    "        script.decompose()\n",
    "    text = soup.get_text(separator=' ', strip=True)\n",
    "\n",
    "    # Print a snippet of the content (first 500 characters)\n",
    "    snippet = text[:500] + \"...\" if len(text) > 500 else text\n",
    "    print(snippet)\n"
   ]
  },
  {
   "cell_type": "code",
   "execution_count": 5,
   "metadata": {},
   "outputs": [
    {
     "name": "stdout",
     "output_type": "stream",
     "text": [
      "Requirement already satisfied: selenium in /Users/charan/VSCode/GITHUB/Assets_Youtube_Videos/venv/lib/python3.11/site-packages (4.27.1)\n",
      "Requirement already satisfied: urllib3<3,>=1.26 in /Users/charan/VSCode/GITHUB/Assets_Youtube_Videos/venv/lib/python3.11/site-packages (from urllib3[socks]<3,>=1.26->selenium) (2.2.3)\n",
      "Requirement already satisfied: trio~=0.17 in /Users/charan/VSCode/GITHUB/Assets_Youtube_Videos/venv/lib/python3.11/site-packages (from selenium) (0.28.0)\n",
      "Requirement already satisfied: trio-websocket~=0.9 in /Users/charan/VSCode/GITHUB/Assets_Youtube_Videos/venv/lib/python3.11/site-packages (from selenium) (0.11.1)\n",
      "Requirement already satisfied: certifi>=2021.10.8 in /Users/charan/VSCode/GITHUB/Assets_Youtube_Videos/venv/lib/python3.11/site-packages (from selenium) (2024.8.30)\n",
      "Requirement already satisfied: typing_extensions~=4.9 in /Users/charan/VSCode/GITHUB/Assets_Youtube_Videos/venv/lib/python3.11/site-packages (from selenium) (4.12.2)\n",
      "Requirement already satisfied: websocket-client~=1.8 in /Users/charan/VSCode/GITHUB/Assets_Youtube_Videos/venv/lib/python3.11/site-packages (from selenium) (1.8.0)\n",
      "Requirement already satisfied: attrs>=23.2.0 in /Users/charan/VSCode/GITHUB/Assets_Youtube_Videos/venv/lib/python3.11/site-packages (from trio~=0.17->selenium) (24.2.0)\n",
      "Requirement already satisfied: sortedcontainers in /Users/charan/VSCode/GITHUB/Assets_Youtube_Videos/venv/lib/python3.11/site-packages (from trio~=0.17->selenium) (2.4.0)\n",
      "Requirement already satisfied: idna in /Users/charan/VSCode/GITHUB/Assets_Youtube_Videos/venv/lib/python3.11/site-packages (from trio~=0.17->selenium) (3.7)\n",
      "Requirement already satisfied: outcome in /Users/charan/VSCode/GITHUB/Assets_Youtube_Videos/venv/lib/python3.11/site-packages (from trio~=0.17->selenium) (1.3.0.post0)\n",
      "Requirement already satisfied: sniffio>=1.3.0 in /Users/charan/VSCode/GITHUB/Assets_Youtube_Videos/venv/lib/python3.11/site-packages (from trio~=0.17->selenium) (1.3.1)\n",
      "Requirement already satisfied: wsproto>=0.14 in /Users/charan/VSCode/GITHUB/Assets_Youtube_Videos/venv/lib/python3.11/site-packages (from trio-websocket~=0.9->selenium) (1.2.0)\n",
      "Requirement already satisfied: pysocks!=1.5.7,<2.0,>=1.5.6 in /Users/charan/VSCode/GITHUB/Assets_Youtube_Videos/venv/lib/python3.11/site-packages (from urllib3[socks]<3,>=1.26->selenium) (1.7.1)\n",
      "Requirement already satisfied: h11<1,>=0.9.0 in /Users/charan/VSCode/GITHUB/Assets_Youtube_Videos/venv/lib/python3.11/site-packages (from wsproto>=0.14->trio-websocket~=0.9->selenium) (0.14.0)\n",
      "Note: you may need to restart the kernel to use updated packages.\n"
     ]
    }
   ],
   "source": [
    "%pip install selenium"
   ]
  },
  {
   "cell_type": "code",
   "execution_count": 6,
   "metadata": {},
   "outputs": [
    {
     "name": "stdout",
     "output_type": "stream",
     "text": [
      "This browser is no longer supported. Please switch to a supported browser to continue using x.com. You can see a list of supported browsers in our Help Center. Help Center Terms of Service Privacy Policy Cookie Policy Imprint Ads info © 2025 X Corp....\n"
     ]
    }
   ],
   "source": [
    "from selenium import webdriver\n",
    "from selenium.webdriver.chrome.options import Options\n",
    "from bs4 import BeautifulSoup\n",
    "\n",
    "chrome_options = Options()\n",
    "chrome_options.add_argument(\"--headless\")  # Run in headless mode\n",
    "driver = webdriver.Chrome(options=chrome_options)\n",
    "\n",
    "url = \"https://twitter.com/geeksforgeeks\"\n",
    "driver.get(url)\n",
    "\n",
    "# Wait for JavaScript to load content if necessary (explicit wait can be added)\n",
    "\n",
    "# Get page source and parse\n",
    "soup = BeautifulSoup(driver.page_source, \"html.parser\")\n",
    "text = soup.get_text(separator=' ', strip=True)\n",
    "print(text[:500] + \"...\")\n",
    "driver.quit()\n"
   ]
  },
  {
   "cell_type": "code",
   "execution_count": 7,
   "metadata": {},
   "outputs": [
    {
     "name": "stdout",
     "output_type": "stream",
     "text": [
      "\n",
      "--- Fetching content from URL 1: https://www.geeksforgeeks.org/ ---\n",
      "GeeksforGeeks | A computer science portal for geeks Courses Tutorials Jobs Practice Contests Data Structure Java Python HTML Interview Preparation Trending Now DSA Web Tech Foundational Courses Data Science Practice Problem Python Machine Learning JavaScript System Design Django DevOps Tutorial Java C C++ ReactJS NodeJS CP Live Aptitude Puzzles Projects Hello, What Do You Want To Learn? Master DS & ML Go Premium Full Stack Live Classes Courses View All 4.4 DSA to Development: A Complete Guide Be...\n",
      "\n",
      "--- Fetching content from URL 2: https://in.linkedin.com/company/geeksforgeeks ---\n",
      "\n",
      "\n",
      "--- Fetching content from URL 3: https://www.youtube.com/channel/UC0RhatS1pyxInC00YKjjBqQ ---\n",
      "GeeksforGeeks - YouTube About Press Copyright Contact us Creator Advertise Developers Terms Privacy Policy & Safety How YouTube works Test new features © 2025 Google LLC\n",
      "\n",
      "--- Fetching content from URL 4: https://www.instagram.com/geeks_for_geeks/?hl=en ---\n",
      "GeeksforGeeks | Learn to Code (@geeks_for_geeks) • Instagram photos and videos\n",
      "\n",
      "--- Fetching content from URL 5: https://www.instagram.com/geeks_for_geeks/reel/DEkEemiTPiF/ ---\n",
      "GeeksforGeeks | Learn to Code | Yes, Same course & 90% Refund- all thanks to the Three 90 Challenge!\n",
      ".\n",
      ".\n",
      ".\n",
      ".\n",
      ".\n",
      ".\n",
      "#geeksforgeeks #gfgthree90 #three90Challenge #Skills... | Instagram\n"
     ]
    }
   ],
   "source": [
    "try:\n",
    "    from googlesearch import search\n",
    "    import requests\n",
    "    from bs4 import BeautifulSoup\n",
    "except ImportError as e:\n",
    "    print(f\"Required module not found: {e.name}. Please install it.\")\n",
    "    exit(1)\n",
    "\n",
    "query = \"GeeksforGeeks\"\n",
    "\n",
    "# Retrieve top 5 URLs and filter out Twitter links\n",
    "urls = []\n",
    "for url in search(query, tld=\"com\", num=10, stop=10, pause=2):\n",
    "    if \"twitter.com\" not in url:\n",
    "        urls.append(url)\n",
    "    if len(urls) == 5:\n",
    "        break\n",
    "\n",
    "for index, url in enumerate(urls, start=1):\n",
    "    print(f\"\\n--- Fetching content from URL {index}: {url} ---\")\n",
    "    try:\n",
    "        response = requests.get(url, timeout=10)\n",
    "        response.raise_for_status()\n",
    "    except requests.RequestException as e:\n",
    "        print(f\"Failed to retrieve {url}: {e}\")\n",
    "        continue\n",
    "\n",
    "    soup = BeautifulSoup(response.text, \"html.parser\")\n",
    "    for script in soup([\"script\", \"style\"]):\n",
    "        script.decompose()\n",
    "    text = soup.get_text(separator=' ', strip=True)\n",
    "\n",
    "    snippet = text[:500] + \"...\" if len(text) > 500 else text\n",
    "    print(snippet)\n"
   ]
  },
  {
   "cell_type": "code",
   "execution_count": 13,
   "metadata": {},
   "outputs": [
    {
     "name": "stdout",
     "output_type": "stream",
     "text": [
      "{'title': 'What Is Artificial Intelligence? Definition, Uses, and Types', 'href': 'https://www.coursera.org/articles/what-is-artificial-intelligence', 'body': \"Learn what artificial intelligence (AI) is, how it's used today, and what it may do in the future. Explore the difference between AI and machine learning, the types of AI, and the benefits and dangers of AI.\"}\n",
      "{'title': 'What is AI, how does it work and what can it be used for? - BBC', 'href': 'https://www.bbc.com/news/technology-65855333', 'body': 'AI systems are trained on huge amounts of information and learn to identify the patterns in it, in order carry out tasks such as having human-like conversation, or predicting a product an online ...'}\n",
      "{'title': 'Artificial intelligence - Wikipedia', 'href': 'https://en.wikipedia.org/wiki/Artificial_intelligence', 'body': 'Artificial intelligence (AI) is intelligence exhibited by machines, particularly computer systems. It is a field of research that develops and studies methods and software that enable machines to perceive, learn, and act in their environment.'}\n",
      "{'title': 'Artificial intelligence (AI) | Definition, Examples, Types ...', 'href': 'https://www.britannica.com/technology/artificial-intelligence', 'body': 'Artificial intelligence (AI) is the ability of a computer or robot to perform tasks that are commonly associated with human intelligence, such as reasoning, learning, and problem solving. Britannica explains the history, applications, and challenges of AI, as well as its relation to machine learning and ethics.'}\n",
      "{'title': 'What is artificial intelligence (AI)? - IBM', 'href': 'https://www.ibm.com/think/topics/artificial-intelligence', 'body': 'AI-driven recruitment platforms can streamline hiring by screening resumes, matching candidates with job descriptions, and even conducting preliminary interviews using video analysis. These and other tools can dramatically reduce the mountain of administrative paperwork associated with fielding a large volume of candidates. It can also reduce ...'}\n"
     ]
    }
   ],
   "source": [
    "from duckduckgo_search import DDGS\n",
    "\n",
    "results = DDGS().text(\"What is ai?\", max_results=5)\n",
    "for result in results:\n",
    "    print(result)"
   ]
  },
  {
   "cell_type": "code",
   "execution_count": 9,
   "metadata": {},
   "outputs": [
    {
     "name": "stdout",
     "output_type": "stream",
     "text": [
      "{'title': 'Charan H U', 'href': 'https://charanhu.github.io/', 'body': 'On \"Charan H U\" YouTube channel, I make videos that break down various data science, machine learning, deep learning, and programming concepts into clear, concise explanations. My aim is to create engaging and informative content that adds value to my viewers by sharing my knowledge and expertise. Whether you\\'re a beginner or an experienced ...'}\n",
      "{'title': 'Charan H U - IBM | LinkedIn', 'href': 'https://in.linkedin.com/in/charanhu', 'body': \"As an Applied AI Engineer with nearly three years of experience, I am passionate about… · Experience: IBM · Education: SDM INSTITUTE OF TECHNOLOGY (SDMIT), UJIRE · Location: Bengaluru · 500+ connections on LinkedIn. View Charan H U's profile on LinkedIn, a professional community of 1 billion members.\"}\n",
      "{'title': 'Charan H U - Medium', 'href': 'https://charanhu.medium.com/', 'body': 'Read writing from Charan H U on Medium. Applied AI Engineer | Internet Content Creator. Every day, Charan H U and thousands of other voices read, write, and share important stories on Medium.'}\n",
      "{'title': 'About - Charan H U - Medium', 'href': 'https://medium.com/@charanhu/about', 'body': 'About Charan H U on Medium. Applied AI Engineer | Internet Content Creator | Freelancer | Farmer | Student.'}\n",
      "{'title': 'Charan H U (English) - YouTube', 'href': 'https://www.youtube.com/@CharanHUEnglish', 'body': \"Charan H U (English)Hi, I'm Charan H U. I'm a Engineer. I like to share my knowledge and learnings. I created this channel to share my knowledge and at the s...\"}\n"
     ]
    }
   ],
   "source": [
    "for result in results:\n",
    "    print(result)"
   ]
  },
  {
   "cell_type": "code",
   "execution_count": 12,
   "metadata": {},
   "outputs": [
    {
     "name": "stdout",
     "output_type": "stream",
     "text": [
      "Note: you may need to restart the kernel to use updated packages.\n"
     ]
    }
   ],
   "source": [
    "%pip install --upgrade --quiet duckduckgo-search"
   ]
  },
  {
   "cell_type": "code",
   "execution_count": null,
   "metadata": {},
   "outputs": [],
   "source": []
  }
 ],
 "metadata": {
  "kernelspec": {
   "display_name": "venv",
   "language": "python",
   "name": "python3"
  },
  "language_info": {
   "codemirror_mode": {
    "name": "ipython",
    "version": 3
   },
   "file_extension": ".py",
   "mimetype": "text/x-python",
   "name": "python",
   "nbconvert_exporter": "python",
   "pygments_lexer": "ipython3",
   "version": "3.11.10"
  }
 },
 "nbformat": 4,
 "nbformat_minor": 2
}
